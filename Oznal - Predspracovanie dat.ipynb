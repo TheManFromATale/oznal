{
 "cells": [
  {
   "cell_type": "code",
   "execution_count": 2,
   "metadata": {},
   "outputs": [],
   "source": [
    "import pandas as pd\n",
    "from sklearn import preprocessing"
   ]
  },
  {
   "cell_type": "code",
   "execution_count": 3,
   "metadata": {},
   "outputs": [],
   "source": [
    "pd.set_option('display.max_columns', 51)"
   ]
  },
  {
   "cell_type": "code",
   "execution_count": 4,
   "metadata": {},
   "outputs": [],
   "source": [
    "data = pd.read_csv(\"diabetic_data.csv\")"
   ]
  },
  {
   "cell_type": "code",
   "execution_count": 5,
   "metadata": {},
   "outputs": [],
   "source": [
    "data = data.drop(columns=['weight', 'admission_type_id', 'discharge_disposition_id', 'admission_source_id', 'payer_code', 'medical_specialty'])"
   ]
  },
  {
   "cell_type": "markdown",
   "metadata": {},
   "source": [
    "### Atribut medications"
   ]
  },
  {
   "cell_type": "code",
   "execution_count": 6,
   "metadata": {},
   "outputs": [],
   "source": [
    "# medications\n",
    "# No = -1\n",
    "# Steady = 0\n",
    "# Down = 1\n",
    "# Up = 2\n",
    "\n",
    "data = data.replace(to_replace='No', value=-1)\n",
    "data = data.replace(to_replace='Steady', value=0)\n",
    "data = data.replace(to_replace='Down', value=1)\n",
    "data = data.replace(to_replace='Up', value=2)"
   ]
  },
  {
   "cell_type": "markdown",
   "metadata": {},
   "source": [
    "### Atribut change"
   ]
  },
  {
   "cell_type": "code",
   "execution_count": 7,
   "metadata": {},
   "outputs": [],
   "source": [
    "# change\n",
    "# No = 0\n",
    "# Ch = 1\n",
    "\n",
    "# diabetesMed\n",
    "# No = 0\n",
    "# Yes = 1\n",
    "data = data.replace(to_replace='Ch', value=1)\n",
    "data.loc[data['change'] < 0, 'change'] = 0\n",
    "data.loc[data['diabetesMed'] == 'Yes', 'diabetesMed'] = 1\n",
    "data.loc[data['diabetesMed'] < 0, 'diabetesMed'] = 0"
   ]
  },
  {
   "cell_type": "markdown",
   "metadata": {},
   "source": [
    "### Atribut gender"
   ]
  },
  {
   "cell_type": "code",
   "execution_count": 8,
   "metadata": {},
   "outputs": [],
   "source": [
    "# gender\n",
    "# Male = 0\n",
    "# Female = 1\n",
    "\n",
    "data = data.replace(to_replace='Male', value=0)\n",
    "data = data.replace(to_replace='Female', value=1)"
   ]
  },
  {
   "cell_type": "markdown",
   "metadata": {},
   "source": [
    "### Atribut race"
   ]
  },
  {
   "cell_type": "code",
   "execution_count": 9,
   "metadata": {},
   "outputs": [],
   "source": [
    "# race\n",
    "\n",
    "# Caucasian = 0\n",
    "# African-American = 1\n",
    "# Asian, Hispanic, Other = 2\n",
    "\n",
    "data = data.replace(to_replace='Caucasian', value=0)\n",
    "data = data.replace(to_replace='AfricanAmerican', value=1)\n",
    "data = data.replace(to_replace=['Hispanic', 'Asian', 'Other'] , value=2)"
   ]
  },
  {
   "cell_type": "markdown",
   "metadata": {},
   "source": [
    "### Atributy diagnoz"
   ]
  },
  {
   "cell_type": "code",
   "execution_count": 10,
   "metadata": {},
   "outputs": [],
   "source": [
    "data = data.assign(diag_1_139 =pd.Series())\n",
    "data = data.assign(diag_140_239 =pd.Series())\n",
    "data = data.assign(diag_240_279 =pd.Series())\n",
    "data = data.assign(diag_280_289 =pd.Series())\n",
    "data = data.assign(diag_290_319 =pd.Series())\n",
    "data = data.assign(diag_320_389 =pd.Series())\n",
    "data = data.assign(diag_390_459 =pd.Series())\n",
    "data = data.assign(diag_460_519 =pd.Series())\n",
    "data = data.assign(diag_520_579 =pd.Series())\n",
    "data = data.assign(diag_580_629 =pd.Series())\n",
    "data = data.assign(diag_630_679 =pd.Series())\n",
    "data = data.assign(diag_680_709 =pd.Series())\n",
    "data = data.assign(diag_710_739 =pd.Series())\n",
    "data = data.assign(diag_740_759 =pd.Series())\n",
    "data = data.assign(diag_760_779 =pd.Series())\n",
    "data = data.assign(diag_780_799 =pd.Series())\n",
    "data = data.assign(diag_800_999 =pd.Series())\n",
    "data = data.assign(diag_EV =pd.Series())\n",
    "\n",
    "data = data.fillna(0)\n",
    "data = data.replace(to_replace='?', value=0)"
   ]
  },
  {
   "cell_type": "code",
   "execution_count": 11,
   "metadata": {},
   "outputs": [],
   "source": [
    "for index, row in data.iterrows():\n",
    "    diag = [row['diag_1'], row['diag_2'], row['diag_3']]\n",
    "    for d in diag:\n",
    "        if isinstance(d, str) and (d.startswith('V') or d.startswith('E')):\n",
    "            data.at[index, 'diag_EV'] = data.at[index, 'diag_EV'] + 1\n",
    "        elif 1 <= float(d) <= 139:\n",
    "            data.at[index, 'diag_1_139'] = data.at[index, 'diag_1_139'] + 1\n",
    "        elif 140 <= float(d) <= 239:\n",
    "            data.at[index, 'diag_140_239'] = data.at[index, 'diag_140_239'] + 1\n",
    "        elif 240 <= float(d) <= 279:\n",
    "            data.at[index, 'diag_240_279'] = data.at[index, 'diag_240_279'] + 1\n",
    "        elif 280 <= float(d) <= 289:\n",
    "            data.at[index, 'diag_280_289'] = data.at[index, 'diag_280_289'] + 1\n",
    "        elif 290 <= float(d) <= 319:\n",
    "            data.at[index, 'diag_290_319'] = data.at[index, 'diag_290_319'] + 1\n",
    "        elif 320 <= float(d) <= 389:\n",
    "            data.at[index, 'diag_320_389'] = data.at[index, 'diag_320_389'] + 1\n",
    "        elif 390 <= float(d) <= 459:\n",
    "            data.at[index, 'diag_390_459'] = data.at[index, 'diag_390_459'] + 1\n",
    "        elif 460 <= float(d) <= 519:\n",
    "            data.at[index, 'diag_460_519'] = data.at[index, 'diag_460_519'] + 1\n",
    "        elif 520 <= float(d) <= 579:\n",
    "            data.at[index, 'diag_520_579'] = data.at[index, 'diag_520_579'] + 1\n",
    "        elif 580 <= float(d) <= 629:\n",
    "            data.at[index, 'diag_580_629'] = data.at[index, 'diag_580_629'] + 1\n",
    "        elif 630 <= float(d) <= 679:\n",
    "            data.at[index, 'diag_630_679'] = data.at[index, 'diag_630_679'] + 1\n",
    "        elif 680 <= float(d) <= 709:\n",
    "            data.at[index, 'diag_680_709'] = data.at[index, 'diag_680_709'] + 1\n",
    "        elif 710 <= float(d) <= 739:\n",
    "            data.at[index, 'diag_710_739'] = data.at[index, 'diag_710_739'] + 1\n",
    "        elif 740 <= float(d) <= 759:\n",
    "            data.at[index, 'diag_740_759'] = data.at[index, 'diag_740_759'] + 1\n",
    "        elif 760 <= float(d) <= 779:\n",
    "            data.at[index, 'diag_760_779'] = data.at[index, 'diag_760_779'] + 1\n",
    "        elif 780 <= float(d) <= 799:\n",
    "            data.at[index, 'diag_780_799'] = data.at[index, 'diag_780_799'] + 1\n",
    "        elif 800 <= float(d) <= 999:\n",
    "            data.at[index, 'diag_800_999'] = data.at[index, 'diag_800_999'] + 1\n",
    "    # break"
   ]
  },
  {
   "cell_type": "markdown",
   "metadata": {},
   "source": [
    "### Atribut age"
   ]
  },
  {
   "cell_type": "code",
   "execution_count": 12,
   "metadata": {},
   "outputs": [],
   "source": [
    "data = data.replace(to_replace='[0-10)', value=0)\n",
    "data = data.replace(to_replace='[10-20)', value=1)\n",
    "data = data.replace(to_replace='[20-30)', value=2)\n",
    "data = data.replace(to_replace='[30-40)', value=3)\n",
    "data = data.replace(to_replace='[40-50)', value=4)\n",
    "data = data.replace(to_replace='[50-60)', value=5)\n",
    "data = data.replace(to_replace='[60-70)', value=6)\n",
    "data = data.replace(to_replace='[70-80)', value=7)\n",
    "data = data.replace(to_replace='[80-90)', value=8)\n",
    "data = data.replace(to_replace='[90-100)', value=9)\n"
   ]
  },
  {
   "cell_type": "markdown",
   "metadata": {},
   "source": [
    "### Atribut readmittance - target klasifikacie"
   ]
  },
  {
   "cell_type": "code",
   "execution_count": 13,
   "metadata": {},
   "outputs": [],
   "source": [
    "data = data.replace(to_replace='NO', value=0)\n",
    "data = data.replace(to_replace='>30', value=1)\n",
    "data = data.replace(to_replace='<30', value=1)"
   ]
  },
  {
   "cell_type": "markdown",
   "metadata": {},
   "source": [
    "### Posledne upravy"
   ]
  },
  {
   "cell_type": "code",
   "execution_count": 14,
   "metadata": {},
   "outputs": [],
   "source": [
    "data = data.drop(columns=['max_glu_serum', 'A1Cresult', 'diag_1', 'diag_2', 'diag_3', 'patient_nbr'])\n",
    "data = data.set_index('encounter_id')\n",
    "data = data.drop(data[data['gender'] == 'Unknown/Invalid'].index)"
   ]
  },
  {
   "cell_type": "markdown",
   "metadata": {},
   "source": [
    "### Normalizacia dat"
   ]
  },
  {
   "cell_type": "code",
   "execution_count": 15,
   "metadata": {},
   "outputs": [],
   "source": [
    "data_normalized = data.copy()\n",
    "\n",
    "data_normalized[list(data_normalized)] = data_normalized[list(data_normalized)].apply(pd.to_numeric)\n",
    "\n",
    "scaler = preprocessing.MinMaxScaler()\n",
    "scaled_values = scaler.fit_transform(data_normalized) \n",
    "data_normalized.loc[:,:] = scaled_values"
   ]
  },
  {
   "cell_type": "code",
   "execution_count": 19,
   "metadata": {},
   "outputs": [],
   "source": [
    "data.to_csv('clean_data.csv')\n",
    "data_normalized.to_csv('normalized_data.csv')"
   ]
  }
 ],
 "metadata": {
  "kernelspec": {
   "display_name": "Python 3",
   "language": "python",
   "name": "python3"
  },
  "language_info": {
   "codemirror_mode": {
    "name": "ipython",
    "version": 3
   },
   "file_extension": ".py",
   "mimetype": "text/x-python",
   "name": "python",
   "nbconvert_exporter": "python",
   "pygments_lexer": "ipython3",
   "version": "3.6.4"
  }
 },
 "nbformat": 4,
 "nbformat_minor": 2
}
